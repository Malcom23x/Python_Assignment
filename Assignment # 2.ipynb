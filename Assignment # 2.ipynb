{
 "cells": [
  {
   "cell_type": "code",
   "execution_count": 13,
   "metadata": {},
   "outputs": [
    {
     "name": "stdout",
     "output_type": "stream",
     "text": [
      "Enter marks of Maths subject: 95\n",
      "Enter marks of Science subject: 96\n",
      "Enter marks of History subject: 97\n",
      "Enter marks of English subject: 85\n",
      "Enter marks of Geography subject: 92\n",
      "Grade A\n"
     ]
    }
   ],
   "source": [
    "#Task 1\n",
    "sb1=int(input(\"Enter marks of Maths subject: \"))\n",
    "sb2=int(input(\"Enter marks of Science subject: \"))\n",
    "sb3=int(input(\"Enter marks of History subject: \"))\n",
    "sb4=int(input(\"Enter marks of English subject: \"))\n",
    "sb5=int(input(\"Enter marks of Geography subject: \"))\n",
    "total=sb1+sb2+sb3+sb4+sb5\n",
    "avg=(total/5)\n",
    "if(avg>=90):\n",
    "    print(\"Grade A\")\n",
    "elif(avg>=80 and avg<90):\n",
    "    print(\"Grade B\")\n",
    "elif(avg>=70 and avg<80):\n",
    "    print(\"Grade C\")\n",
    "elif(avg>=60 and avg<70):\n",
    "    print(\"Grade D\")\n",
    "else:\n",
    "    print(\"Grade F\")\n"
   ]
  },
  {
   "cell_type": "code",
   "execution_count": 18,
   "metadata": {},
   "outputs": [
    {
     "name": "stdout",
     "output_type": "stream",
     "text": [
      "Enter a num to check whether it is Even or Odd: 152\n",
      "Number is Even\n"
     ]
    }
   ],
   "source": [
    "#Task 2\n",
    "num=int(input(\"Enter a num to check whether it is Even or Odd: \"))\n",
    "num=num%2\n",
    "if(num==0):\n",
    "    print(\"Number is Even\")\n",
    "else:\n",
    "    print(\"Number is Odd\")\n"
   ]
  },
  {
   "cell_type": "code",
   "execution_count": 20,
   "metadata": {},
   "outputs": [
    {
     "name": "stdout",
     "output_type": "stream",
     "text": [
      "The length of list is:  5\n"
     ]
    }
   ],
   "source": [
    "#Task 3\n",
    "length = len([5, 10, 15, 20, 25]) \n",
    "print(\"The length of list is: \", length) "
   ]
  },
  {
   "cell_type": "code",
   "execution_count": 1,
   "metadata": {},
   "outputs": [
    {
     "name": "stdout",
     "output_type": "stream",
     "text": [
      "Sum all the numeric items in a list:  15\n"
     ]
    }
   ],
   "source": [
    "#Task 4\n",
    "listnum = [1, 2, 3, 4, 5]  \n",
    "sum1=0\n",
    "\n",
    "for a in range(0, len(listnum)): \n",
    "    sum1 = sum1 + listnum[a] \n",
    "  \n",
    "print(\"Sum all the numeric items in a list: \", sum1) "
   ]
  },
  {
   "cell_type": "code",
   "execution_count": 2,
   "metadata": {},
   "outputs": [
    {
     "name": "stdout",
     "output_type": "stream",
     "text": [
      "Largest Number is: 66\n"
     ]
    }
   ],
   "source": [
    "#Task 5\n",
    "listnum = [11, 22, 33, 44, 55, 66] \n",
    "  \n",
    "print(\"Largest Number is:\", max(listnum)) \n",
    "\n"
   ]
  },
  {
   "cell_type": "code",
   "execution_count": 10,
   "metadata": {},
   "outputs": [
    {
     "name": "stdout",
     "output_type": "stream",
     "text": [
      "[1, 1, 2, 3]\n"
     ]
    }
   ],
   "source": [
    "#Task 6\n",
    "list1 = [1, 1, 2, 3, 5, 8, 13, 21, 34, 55, 89]\n",
    "\n",
    "list2 = []\n",
    "\n",
    "for a in list1:\n",
    "  \n",
    "    if a < 5:\n",
    "        list2.append(a)\n",
    "print(list2)"
   ]
  }
 ],
 "metadata": {
  "kernelspec": {
   "display_name": "Python 3",
   "language": "python",
   "name": "python3"
  },
  "language_info": {
   "codemirror_mode": {
    "name": "ipython",
    "version": 3
   },
   "file_extension": ".py",
   "mimetype": "text/x-python",
   "name": "python",
   "nbconvert_exporter": "python",
   "pygments_lexer": "ipython3",
   "version": "3.7.4"
  }
 },
 "nbformat": 4,
 "nbformat_minor": 2
}
