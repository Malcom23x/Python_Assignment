{
 "cells": [
  {
   "cell_type": "code",
   "execution_count": 1,
   "metadata": {},
   "outputs": [
    {
     "name": "stdout",
     "output_type": "stream",
     "text": [
      "Select an Operation.\n",
      "Press 1 to Add\n",
      "Press 2 to Subtract\n",
      "Press 3 to Multiply\n",
      "Press 4 to Divide\n",
      "Enter choice(1/2/3/4): 3\n",
      "Enter first number: 4\n",
      "Enter second number: 5\n",
      "4.0 * 5.0 = 20.0\n"
     ]
    }
   ],
   "source": [
    "#Task # 01\n",
    "\n",
    "def add(a, b):\n",
    "   return a + b\n",
    "def sub(a, b):\n",
    "   return a - b\n",
    "def mul(a, b):\n",
    "   return a * b\n",
    "def div(a, b):\n",
    "   return a / b\n",
    "print(\"Select an Operation.\")\n",
    "print(\"Press 1 to Add\")\n",
    "print(\"Press 2 to Subtract\")\n",
    "print(\"Press 3 to Multiply\")\n",
    "print(\"Press 4 to Divide\")\n",
    "\n",
    "choice = input(\"Enter choice(1/2/3/4): \")\n",
    "num1 = float(input(\"Enter first number: \"))\n",
    "num2 = float(input(\"Enter second number: \"))\n",
    "if choice == '1':\n",
    "   print(num1,\"+\",num2,\"=\", add(num1,num2))\n",
    "elif choice == '2':\n",
    "   print(num1,\"-\",num2,\"=\", sub(num1,num2))\n",
    "elif choice == '3':\n",
    "   print(num1,\"*\",num2,\"=\", mul(num1,num2))\n",
    "elif choice == '4':\n",
    "   print(num1,\"/\",num2,\"=\", div(num1,num2))\n",
    "else:\n",
    "   print(\"Invalid input\")"
   ]
  },
  {
   "cell_type": "code",
   "execution_count": 5,
   "metadata": {},
   "outputs": [
    {
     "name": "stdout",
     "output_type": "stream",
     "text": [
      "Numeric value found :  20\n",
      "Numeric value found :  30\n"
     ]
    }
   ],
   "source": [
    "#Task # 02\n",
    "\n",
    "list = ['Take', 20 , \"back\", 30]\n",
    "for value in list:\n",
    "    if type(value) == int or type(value) == float:\n",
    "        print(\"Numeric value found : \" ,value)\n",
    "        "
   ]
  },
  {
   "cell_type": "code",
   "execution_count": 6,
   "metadata": {},
   "outputs": [
    {
     "name": "stdout",
     "output_type": "stream",
     "text": [
      "Key added\n"
     ]
    }
   ],
   "source": [
    "#Task # 03\n",
    "\n",
    "dic = {}\n",
    "dic[1] = \"Key added\"\n",
    "\n",
    "print(dic[1])"
   ]
  },
  {
   "cell_type": "code",
   "execution_count": 8,
   "metadata": {},
   "outputs": [
    {
     "name": "stdout",
     "output_type": "stream",
     "text": [
      "110\n"
     ]
    }
   ],
   "source": [
    "#Task # 04\n",
    "\n",
    "dict_ad = {'i':50,'ii':40,'iii':20}\n",
    "print(sum(dict_ad.values()))\n",
    "\n"
   ]
  },
  {
   "cell_type": "code",
   "execution_count": 3,
   "metadata": {},
   "outputs": [
    {
     "name": "stdout",
     "output_type": "stream",
     "text": [
      "Duplicated Ahmed\n",
      "Duplicated Ahmed\n",
      "Duplicated 3\n",
      "Duplicated 5\n",
      "Duplicated 0.6\n",
      "Duplicated 4\n",
      "Duplicated 3\n",
      "Duplicated 4\n",
      "Duplicated 5\n",
      "Duplicated 0.6\n"
     ]
    }
   ],
   "source": [
    "#Task # 05\n",
    "\n",
    "\n",
    "my_list = [\"Ahmed\", \"Ahmed\", 3, 5, 0.6, 4, 2, 3, 4, 5, 0.6]\n",
    "for value in my_list:\n",
    "    if  my_list.count(value) > 1:\n",
    "        print(f\"Duplicated {value}\")\n",
    "\n"
   ]
  },
  {
   "cell_type": "code",
   "execution_count": 4,
   "metadata": {},
   "outputs": [
    {
     "name": "stdout",
     "output_type": "stream",
     "text": [
      "2 This key Already exists in the Dictionary\n"
     ]
    }
   ],
   "source": [
    "#Task # 06\n",
    "\n",
    "dic = { 1: \"key1\", 2: \"key2\", 3: \"key3\"}\n",
    "\n",
    "my_key = 2\n",
    "\n",
    "for key in dic.keys():\n",
    "    if key == my_key:\n",
    "        print(f\"{my_key} This key Already exists in the Dictionary\")"
   ]
  },
  {
   "cell_type": "code",
   "execution_count": null,
   "metadata": {},
   "outputs": [],
   "source": []
  }
 ],
 "metadata": {
  "kernelspec": {
   "display_name": "Python 3",
   "language": "python",
   "name": "python3"
  },
  "language_info": {
   "codemirror_mode": {
    "name": "ipython",
    "version": 3
   },
   "file_extension": ".py",
   "mimetype": "text/x-python",
   "name": "python",
   "nbconvert_exporter": "python",
   "pygments_lexer": "ipython3",
   "version": "3.7.4"
  }
 },
 "nbformat": 4,
 "nbformat_minor": 2
}
